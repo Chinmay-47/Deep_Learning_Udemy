{
  "nbformat": 4,
  "nbformat_minor": 0,
  "metadata": {
    "colab": {
      "name": "ANN_Predict.ipynb",
      "provenance": [],
      "collapsed_sections": [],
      "authorship_tag": "ABX9TyP+PXeIDNzO9y/rrub55ChA",
      "include_colab_link": true
    },
    "kernelspec": {
      "name": "python3",
      "display_name": "Python 3"
    }
  },
  "cells": [
    {
      "cell_type": "markdown",
      "metadata": {
        "id": "view-in-github",
        "colab_type": "text"
      },
      "source": [
        "<a href=\"https://colab.research.google.com/github/Chinmay-47/Deep_Learning_Udemy/blob/master/ANN_Predict.ipynb\" target=\"_parent\"><img src=\"https://colab.research.google.com/assets/colab-badge.svg\" alt=\"Open In Colab\"/></a>"
      ]
    },
    {
      "cell_type": "code",
      "metadata": {
        "id": "bLNl5xMonFj2",
        "colab_type": "code",
        "colab": {}
      },
      "source": [
        "from __future__ import print_function, division\n",
        "from builtins import range\n",
        "import numpy as np\n",
        "from process import get_data\n",
        "\n",
        "X, Y, _, _ = get_data()\n",
        "\n",
        "# randomly initialize weights\n",
        "M = 5\n",
        "D = X.shape[1]\n",
        "K = len(set(Y))\n",
        "W1 = np.random.randn(D, M)\n",
        "b1 = np.zeros(M)\n",
        "W2 = np.random.randn(M, K)\n",
        "b2 = np.zeros(K)\n",
        "\n",
        "# make predictions\n",
        "def softmax(a):\n",
        "    expA = np.exp(a)\n",
        "    return expA / expA.sum(axis=1, keepdims=True)\n",
        "\n",
        "def forward(X, W1, b1, W2, b2):\n",
        "    Z = np.tanh(X.dot(W1) + b1)\n",
        "    return softmax(Z.dot(W2) + b2)\n",
        "\n",
        "P_Y_given_X = forward(X, W1, b1, W2, b2)\n",
        "print(\"P_Y_given_X.shape:\", P_Y_given_X.shape)\n",
        "predictions = np.argmax(P_Y_given_X, axis=1)\n",
        "\n",
        "# calculate the accuracy\n",
        "def classification_rate(Y, P):\n",
        "    return np.mean(Y == P)\n",
        "\n",
        "print(\"Score:\", classification_rate(Y, predictions))"
      ],
      "execution_count": null,
      "outputs": []
    }
  ]
}