{
  "nbformat": 4,
  "nbformat_minor": 0,
  "metadata": {
    "colab": {
      "name": "Process.ipynb",
      "provenance": [],
      "collapsed_sections": [],
      "authorship_tag": "ABX9TyP9fjUEsb6JzVy6ikofNCOO",
      "include_colab_link": true
    },
    "kernelspec": {
      "name": "python3",
      "display_name": "Python 3"
    }
  },
  "cells": [
    {
      "cell_type": "markdown",
      "metadata": {
        "id": "view-in-github",
        "colab_type": "text"
      },
      "source": [
        "<a href=\"https://colab.research.google.com/github/Chinmay-47/Deep_Learning_Udemy/blob/master/Process.ipynb\" target=\"_parent\"><img src=\"https://colab.research.google.com/assets/colab-badge.svg\" alt=\"Open In Colab\"/></a>"
      ]
    },
    {
      "cell_type": "code",
      "metadata": {
        "id": "wGI-BOBHgknd",
        "colab_type": "code",
        "colab": {}
      },
      "source": [
        "from __future__ import print_function, division\n",
        "from builtins import range\n",
        "import numpy as np\n",
        "import pandas as pd\n",
        "import os\n",
        "\n",
        "# so scripts from other folders can import this file\n",
        "dir_path = os.path.abspath(os.path.dirname(os.path.realpath(__file__)))\n",
        "\n",
        "# normalize numerical columns\n",
        "# one-hot categorical columns\n",
        "\n",
        "def get_data():\n",
        "  df = pd.read_csv(dir_path + '/ecommerce_data.csv')\n",
        "\n",
        "  # just in case you're curious what's in it\n",
        "  # df.head()\n",
        "\n",
        "  # easier to work with numpy array\n",
        "  data = df.values\n",
        "\n",
        "  # shuffle it\n",
        "  np.random.shuffle(data)\n",
        "\n",
        "  # split features and labels\n",
        "  X = data[:,:-1]\n",
        "  Y = data[:,-1].astype(np.int32)\n",
        "\n",
        "  # one-hot encode the categorical data\n",
        "  # create a new matrix X2 with the correct number of columns\n",
        "  N, D = X.shape\n",
        "  X2 = np.zeros((N, D+3))\n",
        "  X2[:,0:(D-1)] = X[:,0:(D-1)] # non-categorical\n",
        "\n",
        "  # one-hot\n",
        "  for n in range(N):\n",
        "      t = int(X[n,D-1])\n",
        "      X2[n,t+D-1] = 1\n",
        "\n",
        "  # method 2\n",
        "  # Z = np.zeros((N, 4))\n",
        "  # Z[np.arange(N), X[:,D-1].astype(np.int32)] = 1\n",
        "  # # assign: X2[:,-4:] = Z\n",
        "  # assert(np.abs(X2[:,-4:] - Z).sum() < 1e-10)\n",
        "\n",
        "  # assign X2 back to X, since we don't need original anymore\n",
        "  X = X2\n",
        "\n",
        "  # split train and test\n",
        "  Xtrain = X[:-100]\n",
        "  Ytrain = Y[:-100]\n",
        "  Xtest = X[-100:]\n",
        "  Ytest = Y[-100:]\n",
        "\n",
        "  # normalize columns 1 and 2\n",
        "  for i in (1, 2):\n",
        "    m = Xtrain[:,i].mean()\n",
        "    s = Xtrain[:,i].std()\n",
        "    Xtrain[:,i] = (Xtrain[:,i] - m) / s\n",
        "    Xtest[:,i] = (Xtest[:,i] - m) / s\n",
        "\n",
        "  return Xtrain, Ytrain, Xtest, Ytest\n",
        "\n",
        "\n",
        "def get_binary_data():\n",
        "  # return only the data from the first 2 classes\n",
        "  Xtrain, Ytrain, Xtest, Ytest = get_data()\n",
        "  X2train = Xtrain[Ytrain <= 1]\n",
        "  Y2train = Ytrain[Ytrain <= 1]\n",
        "  X2test = Xtest[Ytest <= 1]\n",
        "  Y2test = Ytest[Ytest <= 1]\n",
        "  return X2train, Y2train, X2test, Y2test"
      ],
      "execution_count": null,
      "outputs": []
    }
  ]
}